{
 "cells": [
  {
   "cell_type": "code",
   "execution_count": null,
   "metadata": {},
   "outputs": [],
   "source": [
    "from clawpack.geoclaw import topotools\n",
    "\n",
    "import os\n",
    "CLAW = os.environ['CLAW']"
   ]
  },
  {
   "cell_type": "code",
   "execution_count": null,
   "metadata": {},
   "outputs": [],
   "source": [
    "topo = topotools.Topography()\n",
    "topo_path = '_output/fgmax0001.txt'\n",
    "topo.read(topo_path, topo_type=1, )"
   ]
  },
  {
   "cell_type": "code",
   "execution_count": null,
   "metadata": {},
   "outputs": [],
   "source": [
    "# topo.plot()"
   ]
  },
  {
   "cell_type": "code",
   "execution_count": null,
   "metadata": {},
   "outputs": [],
   "source": [
    "topo.x, topo.X, topo.y, topo.Y, topo.z, topo.Z"
   ]
  },
  {
   "cell_type": "code",
   "execution_count": null,
   "metadata": {},
   "outputs": [],
   "source": [
    "from clawpack.geoclaw import fgmax_tools\n",
    "fgno = 2\n",
    "fg = fgmax_tools.FGmaxGrid()\n",
    "fg.read_fgmax_grids_data(fgno)\n",
    "fg.read_output(outdir='_output')"
   ]
  },
  {
   "cell_type": "code",
   "execution_count": null,
   "metadata": {},
   "outputs": [],
   "source": [
    "import numpy as np\n",
    "fg.B0 = fg.B  # no seafloor deformation in this problem\n",
    "fg.h_onshore = np.ma.masked_where(fg.B0 < 0., fg.h)\n",
    "\n",
    "# Mask less than 0.1 m\n",
    "cutoff = 0.1\n",
    "nodata_value = -9999\n",
    "inundation = np.ma.masked_where(fg.h_onshore < cutoff, fg.h_onshore).filled(nodata_value).transpose()\n",
    "# inundation = fg.h_onshore.filled(nodata_value)\n",
    "\n",
    "# fg.x.shape, fg.y.shape\n",
    "# fg.h_onshore.shape"
   ]
  },
  {
   "cell_type": "code",
   "execution_count": null,
   "metadata": {},
   "outputs": [],
   "source": [
    "fg.h_onshore.mask.sum(), fg.h_onshore.mask.size\n",
    "inundation.min()"
   ]
  },
  {
   "cell_type": "code",
   "execution_count": null,
   "metadata": {},
   "outputs": [],
   "source": [
    "fg.x, fg.y"
   ]
  },
  {
   "cell_type": "code",
   "execution_count": null,
   "metadata": {},
   "outputs": [],
   "source": [
    "fg.X[:,0], fg.Y[0,:]"
   ]
  },
  {
   "cell_type": "code",
   "execution_count": null,
   "metadata": {},
   "outputs": [],
   "source": [
    "fg.X[1,0] - fg.X[0,0]"
   ]
  },
  {
   "cell_type": "code",
   "execution_count": null,
   "metadata": {},
   "outputs": [],
   "source": [
    "topo.x = fg.X[:,0]\n",
    "topo.y = fg.Y[0,:]\n",
    "topo.Z = inundation#fg.h_onshoredx = self.X[0,1] - self.X[0,0]\n",
    "dy = topo.y[1] - topo.y[0]\n",
    "dx = topo.x[1] - topo.x[0]\n",
    "topo._delta = (dx,dy)\n",
    "topo.delta[0]"
   ]
  },
  {
   "cell_type": "code",
   "execution_count": null,
   "metadata": {},
   "outputs": [],
   "source": [
    "topo.no_data_value = -9999"
   ]
  },
  {
   "cell_type": "code",
   "execution_count": null,
   "metadata": {},
   "outputs": [],
   "source": [
    "topo.write('fgmax0002.asc', header_style='asc', fill_value=-9999, topo_type=3)"
   ]
  },
  {
   "cell_type": "code",
   "execution_count": null,
   "metadata": {},
   "outputs": [],
   "source": [
    "topo.Z.max()"
   ]
  },
  {
   "cell_type": "code",
   "execution_count": 1,
   "metadata": {},
   "outputs": [],
   "source": [
    "def fgmax_to_ascii(fgno=1, nodata_value=-9999):\n",
    "    from clawpack.geoclaw import fgmax_tools\n",
    "    fg = fgmax_tools.FGmaxGrid()\n",
    "    fg.read_fgmax_grids_data(fgno)\n",
    "    fg.read_output(outdir='_output')\n",
    "    fg.B0 = fg.B  # no seafloor deformation in this problem\n",
    "    \n",
    "    import numpy as np\n",
    "    fg.h_onshore = np.ma.masked_where(fg.B0 < 0., fg.h)\n",
    "#     inundation = fg.h_onshore.filled(nodata_value)\n",
    "    # Mask less than 0.1 m\n",
    "    cutoff = 0.1\n",
    "    nodata_value = -9999\n",
    "    inundation = np.ma.masked_where(fg.h_onshore < cutoff, fg.h_onshore).filled(nodata_value).transpose()\n",
    "#     print(inundation.max())\n",
    "    from clawpack.geoclaw import topotools\n",
    "    topo = topotools.Topography()\n",
    "    topo.x = fg.X[:,0]\n",
    "    topo.y = fg.Y[0,:]\n",
    "    topo.Z = inundation\n",
    "    dy = topo.y[1] - topo.y[0]\n",
    "    dx = topo.x[1] - topo.x[0]\n",
    "    topo._delta = (dx,dy)\n",
    "    topo.Z = inundation\n",
    "    topo.write(f'_output/fgmax{fgno:04}.asc', header_style='asc', fill_value=nodata_value, topo_type=3)"
   ]
  },
  {
   "cell_type": "code",
   "execution_count": null,
   "metadata": {},
   "outputs": [
    {
     "name": "stdout",
     "output_type": "stream",
     "text": [
      "1\n",
      "Reading input for fgno=1, point_style = 2 \n",
      "Reading _output/fgmax0001.txt ...\n",
      "2\n",
      "Reading input for fgno=2, point_style = 2 \n",
      "Reading _output/fgmax0002.txt ...\n",
      "3\n",
      "Reading input for fgno=3, point_style = 2 \n",
      "Reading _output/fgmax0003.txt ...\n",
      "4\n",
      "Reading input for fgno=4, point_style = 2 \n",
      "Reading _output/fgmax0004.txt ...\n",
      "5\n",
      "Reading input for fgno=5, point_style = 2 \n",
      "Reading _output/fgmax0005.txt ...\n",
      "6\n",
      "Reading input for fgno=6, point_style = 2 \n",
      "Reading _output/fgmax0006.txt ...\n"
     ]
    }
   ],
   "source": [
    "for i in range(8):\n",
    "    j = i+1\n",
    "    print(j)\n",
    "    try:\n",
    "        fgmax_to_ascii(fgno=j)\n",
    "    except:\n",
    "        print('Skipping fgno={j}')\n",
    "        pass"
   ]
  },
  {
   "cell_type": "code",
   "execution_count": null,
   "metadata": {},
   "outputs": [],
   "source": []
  }
 ],
 "metadata": {
  "kernelspec": {
   "display_name": "Python 3",
   "language": "python",
   "name": "python3"
  },
  "language_info": {
   "codemirror_mode": {
    "name": "ipython",
    "version": 3
   },
   "file_extension": ".py",
   "mimetype": "text/x-python",
   "name": "python",
   "nbconvert_exporter": "python",
   "pygments_lexer": "ipython3",
   "version": "3.7.3"
  }
 },
 "nbformat": 4,
 "nbformat_minor": 4
}
